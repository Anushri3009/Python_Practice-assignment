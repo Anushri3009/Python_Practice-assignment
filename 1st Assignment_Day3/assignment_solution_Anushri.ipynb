{
 "cells": [
  {
   "cell_type": "markdown",
   "metadata": {},
   "source": [
    "# Lesson 1.2: Python Basics\n",
    "## Topics Covered:\n",
    "- Syntax and Semantics\n",
    "- Variables and Data Types\n",
    "- Basic Operators (Arithmetic, Comparison, Logical)\n"
   ]
  },
  {
   "cell_type": "markdown",
   "metadata": {},
   "source": [
    "## 1. Syntax and Semantics\n",
    "\n",
    "**Question 1:** Write a Python program to print \"Hello, World!\"."
   ]
  },
  {
   "cell_type": "code",
   "execution_count": 1,
   "metadata": {},
   "outputs": [
    {
     "name": "stdout",
     "output_type": "stream",
     "text": [
      "Hello World\n"
     ]
    }
   ],
   "source": [
    "print(\"Hello World\")"
   ]
  },
  {
   "cell_type": "markdown",
   "metadata": {},
   "source": [
    "**Question 2:** Write a Python program that takes a user input and prints it."
   ]
  },
  {
   "cell_type": "code",
   "execution_count": 2,
   "metadata": {},
   "outputs": [
    {
     "name": "stdin",
     "output_type": "stream",
     "text": [
      "Enter your name Advik Singh\n"
     ]
    },
    {
     "name": "stdout",
     "output_type": "stream",
     "text": [
      "your name is Advik Singh\n"
     ]
    }
   ],
   "source": [
    "user = input(\"Enter your name\")\n",
    "print(\"your name is\",user)"
   ]
  },
  {
   "cell_type": "markdown",
   "metadata": {},
   "source": [
    "**Question 3:** Write a Python program to check if a number is positive, negative, or zero."
   ]
  },
  {
   "cell_type": "code",
   "execution_count": 8,
   "metadata": {},
   "outputs": [
    {
     "name": "stdin",
     "output_type": "stream",
     "text": [
      "Enter a number -90\n"
     ]
    },
    {
     "name": "stdout",
     "output_type": "stream",
     "text": [
      "Number is negative and value is -90\n"
     ]
    }
   ],
   "source": [
    "num = int(input(\"Enter a number\"))\n",
    "if num==0:\n",
    "    print(\"Number has zero value\")\n",
    "elif num<0:\n",
    "    print(\"Number is negative and value is\",num)\n",
    "elif num>0:\n",
    "    print(\"Number is positive and value is \",num)\n",
    "else: \n",
    "    print(\"Invalid value, please enter a number\")\n",
    "    \n",
    " "
   ]
  },
  {
   "cell_type": "markdown",
   "metadata": {},
   "source": [
    "**Question 4:** Write a Python program to find the largest of three numbers."
   ]
  },
  {
   "cell_type": "code",
   "execution_count": 10,
   "metadata": {},
   "outputs": [
    {
     "name": "stdout",
     "output_type": "stream",
     "text": [
      "110\n"
     ]
    }
   ],
   "source": [
    "a=90\n",
    "b=80\n",
    "c=110\n",
    "greatest_num= max(a,b,c)\n",
    "print(greatest_num)"
   ]
  },
  {
   "cell_type": "markdown",
   "metadata": {},
   "source": [
    "**Question 5:** Write a Python program to calculate the factorial of a number."
   ]
  },
  {
   "cell_type": "code",
   "execution_count": 14,
   "metadata": {},
   "outputs": [
    {
     "name": "stdout",
     "output_type": "stream",
     "text": [
      "120\n"
     ]
    }
   ],
   "source": [
    "import math as m\n",
    "x = 5\n",
    "print(m.factorial(x))"
   ]
  },
  {
   "cell_type": "markdown",
   "metadata": {},
   "source": [
    "## 2. Variables and Data Types\n",
    "\n",
    "**Question 6:** Create variables of different data types: integer, float, string, and boolean. Print their values and types."
   ]
  },
  {
   "cell_type": "code",
   "execution_count": 19,
   "metadata": {},
   "outputs": [
    {
     "name": "stdout",
     "output_type": "stream",
     "text": [
      "type of a <class 'int'> and value is 10\n",
      "type of b <class 'float'> and value is 19.5\n",
      "type of c <class 'str'> and value is Ramesh\n",
      "type of d <class 'bool'> and value is True\n"
     ]
    }
   ],
   "source": [
    "a=10\n",
    "b=19.5\n",
    "c= \"Ramesh\"\n",
    "d= True\n",
    "print(\"type of a {} and value is {}\".format (type(a),a))\n",
    "print(\"type of b {} and value is {}\".format (type(b),b))\n",
    "print(\"type of c {} and value is {}\".format (type(c),c))\n",
    "print(\"type of d {} and value is {}\".format (type(d),d))"
   ]
  },
  {
   "cell_type": "markdown",
   "metadata": {},
   "source": [
    "**Question 7:** Write a Python program to swap the values of two variables."
   ]
  },
  {
   "cell_type": "code",
   "execution_count": 21,
   "metadata": {},
   "outputs": [
    {
     "name": "stdout",
     "output_type": "stream",
     "text": [
      "Swapped value of  x is 90 and value of y is 10 \n"
     ]
    }
   ],
   "source": [
    "x=10\n",
    "y=90\n",
    "x,y = y,x\n",
    "print(f\"Swapped value of  x is {x} and value of y is {y} \") "
   ]
  },
  {
   "cell_type": "markdown",
   "metadata": {},
   "source": [
    "**Question 8:** Write a Python program to convert Celsius to Fahrenheit."
   ]
  },
  {
   "cell_type": "code",
   "execution_count": 23,
   "metadata": {},
   "outputs": [
    {
     "name": "stdin",
     "output_type": "stream",
     "text": [
      "Enter temperature in Celcius 300\n"
     ]
    },
    {
     "name": "stdout",
     "output_type": "stream",
     "text": [
      "Temperature in Ferenheit is 572.0\n"
     ]
    }
   ],
   "source": [
    "C = float(input(\"Enter temperature in Celcius\"))\n",
    "F= (9/5 * C)+32\n",
    "print(\"Temperature in Ferenheit is\", F)"
   ]
  },
  {
   "cell_type": "markdown",
   "metadata": {},
   "source": [
    "**Question 9:** Write a Python program to concatenate two strings."
   ]
  },
  {
   "cell_type": "code",
   "execution_count": 25,
   "metadata": {},
   "outputs": [
    {
     "name": "stdout",
     "output_type": "stream",
     "text": [
      "Welcome to my learning page. I am new to Python\n"
     ]
    }
   ],
   "source": [
    "a =\"Welcome to my learning page. \"\n",
    "b =\"I am new to Python\"\n",
    "c= a+b\n",
    "print(c)\n"
   ]
  },
  {
   "cell_type": "markdown",
   "metadata": {},
   "source": [
    "**Question 10:** Write a Python program to check if a variable is of a specific data type."
   ]
  },
  {
   "cell_type": "code",
   "execution_count": 29,
   "metadata": {},
   "outputs": [
    {
     "name": "stdout",
     "output_type": "stream",
     "text": [
      "False\n",
      "True\n",
      "False\n",
      "True\n"
     ]
    }
   ],
   "source": [
    "i =10.0\n",
    "j= True\n",
    "print(isinstance(i,int))\n",
    "print(isinstance(i,float))\n",
    "print(isinstance(j,str))\n",
    "print(isinstance(j,bool))"
   ]
  },
  {
   "cell_type": "markdown",
   "metadata": {},
   "source": [
    "## 3. Basic Operators (Arithmetic, Comparison, Logical)\n",
    "\n",
    "**Question 11:** Write a Python program to perform arithmetic operations: addition, subtraction, multiplication, and division."
   ]
  },
  {
   "cell_type": "code",
   "execution_count": 44,
   "metadata": {},
   "outputs": [
    {
     "name": "stdin",
     "output_type": "stream",
     "text": [
      "Enter first number 34\n",
      "Enter second number 50\n",
      "Please select an opreation you want to perform \n",
      "Addition \n",
      "Substraction \n",
      "Multiplication \n",
      "Division Addition\n"
     ]
    },
    {
     "name": "stdout",
     "output_type": "stream",
     "text": [
      "Addition of two numbers is  84\n"
     ]
    }
   ],
   "source": [
    "i= int(input(\"Enter first number\"))\n",
    "j= int(input(\"Enter second number\"))\n",
    "x= input(\"Please select an opreation you want to perform \\nAddition \\nSubstraction \\nMultiplication \\nDivision\")\n",
    "if x=='Addition':\n",
    "    y=i+j\n",
    "    print(\"Addition of two numbers is \",y)\n",
    "elif x=='Substraction':\n",
    "    y=i-j\n",
    "    print(\"Substraction of two numbers is \",y)\n",
    "elif x== 'Multiplication':\n",
    "    y=i*j\n",
    "    print(\"Multiplication of two numbers is \",y)\n",
    "elif x== 'Division':\n",
    "    y=i/j\n",
    "    print(\"Division of two numbers is \",y)\n",
    "else:\n",
    "    print(\"Please input correct choice\")\n"
   ]
  },
  {
   "cell_type": "markdown",
   "metadata": {},
   "source": [
    "**Question 12:** Write a Python program to demonstrate comparison operators: equal to, not equal to, greater than, less than."
   ]
  },
  {
   "cell_type": "code",
   "execution_count": 53,
   "metadata": {},
   "outputs": [
    {
     "name": "stdin",
     "output_type": "stream",
     "text": [
      "Enter first number 179\n",
      "Enter second number 56\n"
     ]
    },
    {
     "name": "stdout",
     "output_type": "stream",
     "text": [
      "I and J are not equal\n",
      "I is greater than J\n"
     ]
    }
   ],
   "source": [
    "i= int(input(\"Enter first number\"))\n",
    "j= int(input(\"Enter second number\"))\n",
    "#k= int(input(\"Enter third number\"))\n",
    "if(i==j):\n",
    "    print(\"I and J are equal\")\n",
    "else:\n",
    "    print(\"I and J are not equal\")\n",
    "if(i<j):\n",
    "    print(\"J is greater than I\")\n",
    "elif(j<i):\n",
    "    print(\"I is greater than J\")\n",
    "else:\n",
    "    print(\"incorrect values\")"
   ]
  },
  {
   "cell_type": "markdown",
   "metadata": {},
   "source": [
    "**Question 13:** Write a Python program to demonstrate logical operators: and, or, not."
   ]
  },
  {
   "cell_type": "code",
   "execution_count": 58,
   "metadata": {},
   "outputs": [
    {
     "name": "stdout",
     "output_type": "stream",
     "text": [
      "7 is greater number\n",
      "3 is lesser number\n",
      "10 is not equal to 1\n"
     ]
    }
   ],
   "source": [
    "if 5<7 and 7>4:\n",
    "    print(\"7 is greater number\")\n",
    "if 6!=3 or 3<6:\n",
    "    print(\"3 is lesser number\")\n",
    "if 10!=1:\n",
    "    print(\"10 is not equal to 1\")"
   ]
  },
  {
   "cell_type": "markdown",
   "metadata": {},
   "source": [
    "**Question 14:** Write a Python program to calculate the square of a number."
   ]
  },
  {
   "cell_type": "code",
   "execution_count": 60,
   "metadata": {},
   "outputs": [
    {
     "name": "stdin",
     "output_type": "stream",
     "text": [
      "Enter a number to find its square 2\n"
     ]
    },
    {
     "name": "stdout",
     "output_type": "stream",
     "text": [
      "Square of a number 4\n"
     ]
    }
   ],
   "source": [
    "a= int(input(\"Enter a number to find its square\"))\n",
    "sq= a**2\n",
    "print(\"Square of a number\",sq)"
   ]
  },
  {
   "cell_type": "markdown",
   "metadata": {},
   "source": [
    "**Question 15:** Write a Python program to check if a number is even or odd."
   ]
  },
  {
   "cell_type": "code",
   "execution_count": 61,
   "metadata": {},
   "outputs": [
    {
     "name": "stdin",
     "output_type": "stream",
     "text": [
      "Enter a number 79\n"
     ]
    },
    {
     "name": "stdout",
     "output_type": "stream",
     "text": [
      "Number is odd\n"
     ]
    }
   ],
   "source": [
    "x= int(input(\"Enter a number\"))\n",
    "if(x%2==0):\n",
    "    print(\"Number is even\")\n",
    "else:\n",
    "    print(\"Number is odd\")"
   ]
  },
  {
   "cell_type": "markdown",
   "metadata": {},
   "source": [
    "**Question 16:** Write a Python program to find the sum of the first n natural numbers."
   ]
  },
  {
   "cell_type": "code",
   "execution_count": 70,
   "metadata": {},
   "outputs": [
    {
     "name": "stdin",
     "output_type": "stream",
     "text": [
      "Enter a number to find sum of natural numbers 7\n"
     ]
    },
    {
     "name": "stdout",
     "output_type": "stream",
     "text": [
      "Sum of n natural nos is 28\n"
     ]
    }
   ],
   "source": [
    "\n",
    "def sum_n(n):\n",
    "    x=1\n",
    "    sum=0\n",
    "    while x<=n:\n",
    "        sum= sum+x\n",
    "        x= x+1\n",
    "    return sum\n",
    "num= int(input(\"Enter a number to find sum of natural numbers\"))\n",
    "result=sum_n(num)\n",
    "print(\"Sum of n natural nos is\",result)"
   ]
  },
  {
   "cell_type": "markdown",
   "metadata": {},
   "source": [
    "**Question 17:** Write a Python program to check if a year is a leap year."
   ]
  },
  {
   "cell_type": "code",
   "execution_count": 75,
   "metadata": {},
   "outputs": [
    {
     "name": "stdin",
     "output_type": "stream",
     "text": [
      "Enter an year 1900\n"
     ]
    },
    {
     "name": "stdout",
     "output_type": "stream",
     "text": [
      "Its a normal year\n"
     ]
    }
   ],
   "source": [
    "year = int(input(\"Enter an year\"))\n",
    "if (year%4==0)and (year%100!=0) or(year%400==0):\n",
    "    print(\"Its a leap year\")\n",
    "else:\n",
    "    print(\"Its a normal year\")"
   ]
  },
  {
   "cell_type": "markdown",
   "metadata": {},
   "source": [
    "**Question 18:** Write a Python program to reverse a string."
   ]
  },
  {
   "cell_type": "code",
   "execution_count": 79,
   "metadata": {},
   "outputs": [
    {
     "name": "stdin",
     "output_type": "stream",
     "text": [
      "Enter a string Anushri\n"
     ]
    },
    {
     "name": "stdout",
     "output_type": "stream",
     "text": [
      "irhsunA\n"
     ]
    }
   ],
   "source": [
    "x= input(\"Enter a string\")\n",
    "rev = x[::-1]\n",
    "print(rev)"
   ]
  },
  {
   "cell_type": "markdown",
   "metadata": {},
   "source": [
    "**Question 19:** Write a Python program to check if a string is a palindrome."
   ]
  },
  {
   "cell_type": "code",
   "execution_count": 81,
   "metadata": {},
   "outputs": [
    {
     "name": "stdin",
     "output_type": "stream",
     "text": [
      "Enter a string MALULAMP\n"
     ]
    },
    {
     "name": "stdout",
     "output_type": "stream",
     "text": [
      "PMALULAM\n",
      "String is not palindrome\n"
     ]
    }
   ],
   "source": [
    "x= input(\"Enter a string\")\n",
    "rev = x[::-1]\n",
    "print(rev)\n",
    "if (rev==x):\n",
    "    print(\"String is palindrome\")\n",
    "else:\n",
    "    print(\"String is not palindrome\")"
   ]
  },
  {
   "cell_type": "markdown",
   "metadata": {},
   "source": [
    "**Question 20:** Write a Python program to sort a list of numbers in ascending order."
   ]
  },
  {
   "cell_type": "code",
   "execution_count": 84,
   "metadata": {},
   "outputs": [
    {
     "name": "stdout",
     "output_type": "stream",
     "text": [
      "[1, 3, 5, 6, 90]\n"
     ]
    }
   ],
   "source": [
    "lst = [90,6,1,3,5]\n",
    "lst.sort()\n",
    "print(lst)"
   ]
  },
  {
   "cell_type": "code",
   "execution_count": null,
   "metadata": {},
   "outputs": [],
   "source": []
  }
 ],
 "metadata": {
  "kernelspec": {
   "display_name": "Python 3 (ipykernel)",
   "language": "python",
   "name": "python3"
  },
  "language_info": {
   "codemirror_mode": {
    "name": "ipython",
    "version": 3
   },
   "file_extension": ".py",
   "mimetype": "text/x-python",
   "name": "python",
   "nbconvert_exporter": "python",
   "pygments_lexer": "ipython3",
   "version": "3.11.7"
  }
 },
 "nbformat": 4,
 "nbformat_minor": 4
}
