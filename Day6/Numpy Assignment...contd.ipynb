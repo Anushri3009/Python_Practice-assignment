{
 "cells": [
  {
   "cell_type": "markdown",
   "id": "d2c912a8-2ca2-48a8-8338-f0152daefb79",
   "metadata": {},
   "source": [
    "# Numpy Assigment"
   ]
  },
  {
   "cell_type": "markdown",
   "id": "2f0603b0-64a0-44db-9159-08c4e858348d",
   "metadata": {},
   "source": [
    " 1. Import the numpy package under the name `np`and version and the configuration .\n"
   ]
  },
  {
   "cell_type": "code",
   "execution_count": 4,
   "id": "5c46ca51-ba1c-4379-bdf6-56951bd95ed7",
   "metadata": {},
   "outputs": [
    {
     "name": "stdout",
     "output_type": "stream",
     "text": [
      "1.26.4\n",
      "Build Dependencies:\n",
      "  blas:\n",
      "    detection method: pkgconfig\n",
      "    found: true\n",
      "    include directory: C:/ProgramData/anaconda3/Library/include\n",
      "    lib directory: C:/ProgramData/anaconda3/Library/lib\n",
      "    name: mkl-sdl\n",
      "    openblas configuration: unknown\n",
      "    pc file directory: C:\\b\\abs_c1ywpu18ar\\croot\\numpy_and_numpy_base_1708638681471\\_h_env\\Library\\lib\\pkgconfig\n",
      "    version: '2023.1'\n",
      "  lapack:\n",
      "    detection method: internal\n",
      "    found: true\n",
      "    include directory: unknown\n",
      "    lib directory: unknown\n",
      "    name: dep1868282989520\n",
      "    openblas configuration: unknown\n",
      "    pc file directory: unknown\n",
      "    version: 1.26.4\n",
      "Compilers:\n",
      "  c:\n",
      "    commands: cl.exe\n",
      "    linker: link\n",
      "    name: msvc\n",
      "    version: 19.29.30154\n",
      "  c++:\n",
      "    commands: cl.exe\n",
      "    linker: link\n",
      "    name: msvc\n",
      "    version: 19.29.30154\n",
      "  cython:\n",
      "    commands: cython\n",
      "    linker: cython\n",
      "    name: cython\n",
      "    version: 3.0.8\n",
      "Machine Information:\n",
      "  build:\n",
      "    cpu: x86_64\n",
      "    endian: little\n",
      "    family: x86_64\n",
      "    system: windows\n",
      "  host:\n",
      "    cpu: x86_64\n",
      "    endian: little\n",
      "    family: x86_64\n",
      "    system: windows\n",
      "Python Information:\n",
      "  path: C:\\b\\abs_c1ywpu18ar\\croot\\numpy_and_numpy_base_1708638681471\\_h_env\\python.exe\n",
      "  version: '3.11'\n",
      "SIMD Extensions:\n",
      "  baseline:\n",
      "  - SSE\n",
      "  - SSE2\n",
      "  - SSE3\n",
      "  found:\n",
      "  - SSSE3\n",
      "  - SSE41\n",
      "  - POPCNT\n",
      "  - SSE42\n",
      "  - AVX\n",
      "  - F16C\n",
      "  - FMA3\n",
      "  - AVX2\n",
      "  not found:\n",
      "  - AVX512F\n",
      "  - AVX512CD\n",
      "  - AVX512_SKX\n",
      "  - AVX512_CLX\n",
      "  - AVX512_CNL\n",
      "  - AVX512_ICL\n",
      "\n"
     ]
    }
   ],
   "source": [
    "import numpy as np\n",
    "print(np.__version__)\n",
    "np.show_config()"
   ]
  },
  {
   "cell_type": "markdown",
   "id": "99c0ebea-0191-4bf4-90ac-5286b8c084bc",
   "metadata": {},
   "source": [
    "2.Create a 1D array of numbers from 0 to 9"
   ]
  },
  {
   "cell_type": "code",
   "execution_count": 5,
   "id": "e7e70fdb-fab3-4a6f-a40b-625b153a0c58",
   "metadata": {},
   "outputs": [
    {
     "data": {
      "text/plain": [
       "array([0, 1, 2, 3, 4, 5, 6, 7, 8, 9])"
      ]
     },
     "execution_count": 5,
     "metadata": {},
     "output_type": "execute_result"
    }
   ],
   "source": [
    "np.arange(0,10)"
   ]
  },
  {
   "cell_type": "markdown",
   "id": "ad7c8e55-10c6-4950-b0b4-d618dc7095c7",
   "metadata": {},
   "source": [
    "3.Create a 3×3 numpy array of all True’s\r\n"
   ]
  },
  {
   "cell_type": "code",
   "execution_count": 6,
   "id": "b6fded59-4e04-43ba-a03b-fd4f387de516",
   "metadata": {},
   "outputs": [
    {
     "data": {
      "text/plain": [
       "array([[ True,  True,  True],\n",
       "       [ True,  True,  True],\n",
       "       [ True,  True,  True]])"
      ]
     },
     "execution_count": 6,
     "metadata": {},
     "output_type": "execute_result"
    }
   ],
   "source": [
    "np.full((3,3), True, dtype=bool)"
   ]
  },
  {
   "cell_type": "markdown",
   "id": "658bc16a-b5f3-4eca-8d48-16b9642c5c3d",
   "metadata": {},
   "source": [
    "3.Extract all odd numbers from array"
   ]
  },
  {
   "cell_type": "code",
   "execution_count": 9,
   "id": "18579e73-5a35-4fff-a502-e808b05213f8",
   "metadata": {},
   "outputs": [
    {
     "data": {
      "text/plain": [
       "array([ 1,  3,  5,  7,  9, 11, 13, 15, 17, 19])"
      ]
     },
     "execution_count": 9,
     "metadata": {},
     "output_type": "execute_result"
    }
   ],
   "source": [
    "x=np.arange(1,21)\n",
    "x[x%2==1]"
   ]
  },
  {
   "cell_type": "markdown",
   "id": "777d15c6-e84e-4866-be49-725fdc5db102",
   "metadata": {},
   "source": [
    "4.Replace all odd numbers in array with -1"
   ]
  },
  {
   "cell_type": "code",
   "execution_count": 12,
   "id": "e03b8e24-8152-433d-8aee-a09a14203bc4",
   "metadata": {},
   "outputs": [
    {
     "name": "stdout",
     "output_type": "stream",
     "text": [
      "[-1  2 -1  4 -1  6 -1  8 -1 10 -1 12 -1 14 -1 16 -1 18 -1 20]\n"
     ]
    }
   ],
   "source": [
    "x[x%2==1]=-1\n",
    "print(x)"
   ]
  },
  {
   "cell_type": "markdown",
   "id": "d692d0a3-d0d6-4446-8ccf-3528accbc1af",
   "metadata": {},
   "source": [
    "5.Replace all odd numbers in array with -1 without changing arr"
   ]
  },
  {
   "cell_type": "code",
   "execution_count": 21,
   "id": "e1cf966d-e63d-4a74-87c7-51c0a7f0ec0c",
   "metadata": {},
   "outputs": [
    {
     "name": "stdout",
     "output_type": "stream",
     "text": [
      "[ 1  2  3  4  5  6  7  8  9 10 11 12 13 14]\n"
     ]
    },
    {
     "data": {
      "text/plain": [
       "array([-1,  2, -1,  4, -1,  6, -1,  8, -1, 10, -1, 12, -1, 14])"
      ]
     },
     "execution_count": 21,
     "metadata": {},
     "output_type": "execute_result"
    }
   ],
   "source": [
    "arr=np.arange(1,15)\n",
    "\n",
    "print(arr)\n",
    "x=arr.copy()\n",
    "x[x%2==1]=-1\n",
    "x"
   ]
  },
  {
   "cell_type": "markdown",
   "id": "20947133-95cd-4baa-8df1-1aa0fc0ad937",
   "metadata": {},
   "source": [
    "6.Convert a 1D array to a 2D array with 2 rows"
   ]
  },
  {
   "cell_type": "code",
   "execution_count": 25,
   "id": "22db7b4d-1da9-4e39-b3e5-462b7cb668e7",
   "metadata": {},
   "outputs": [
    {
     "data": {
      "text/plain": [
       "array([[1, 2, 3],\n",
       "       [4, 5, 6]])"
      ]
     },
     "execution_count": 25,
     "metadata": {},
     "output_type": "execute_result"
    }
   ],
   "source": [
    "arr1=np.arange(1,7).reshape(2,3)\n",
    "arr1"
   ]
  },
  {
   "cell_type": "markdown",
   "id": "1d840eb2-3997-4802-b1aa-9441bec3b8dc",
   "metadata": {},
   "source": [
    "7.Stack arrays a and b vertically"
   ]
  },
  {
   "cell_type": "code",
   "execution_count": 12,
   "id": "12cb3c8f-7a94-4e91-ab27-2b4aed56884e",
   "metadata": {},
   "outputs": [
    {
     "name": "stdout",
     "output_type": "stream",
     "text": [
      "[[1 2 3]\n",
      " [4 5 6]]\n",
      "[[ 8  9 10]\n",
      " [11 12 13]]\n",
      "[[ 1  2  3]\n",
      " [ 4  5  6]\n",
      " [ 8  9 10]\n",
      " [11 12 13]]\n"
     ]
    }
   ],
   "source": [
    "import numpy as np\n",
    "a= np.arange(1,7).reshape(2,3)\n",
    "print(a)\n",
    "b=np.arange(8,14).reshape(2,3)\n",
    "print(b)\n",
    "result= np.vstack((a,b))\n",
    "print(result)"
   ]
  },
  {
   "cell_type": "markdown",
   "id": "e908a604-5cd2-4722-85a9-080427eee2e1",
   "metadata": {},
   "source": [
    "8. How to stack two arrays horizontally?"
   ]
  },
  {
   "cell_type": "code",
   "execution_count": 14,
   "id": "6fc1a448-8f15-4c07-a2fd-b9a58e6a84df",
   "metadata": {},
   "outputs": [
    {
     "data": {
      "text/plain": [
       "array([[ 1,  2,  3,  8,  9, 10],\n",
       "       [ 4,  5,  6, 11, 12, 13]])"
      ]
     },
     "execution_count": 14,
     "metadata": {},
     "output_type": "execute_result"
    }
   ],
   "source": [
    "result=np.hstack((a,b))\n",
    "result"
   ]
  },
  {
   "cell_type": "markdown",
   "id": "5bb113de-73ee-4419-97e1-21526a8414b3",
   "metadata": {},
   "source": [
    "9.Create the following pattern without hardcoding. Use only numpy functions and the below input array a.\n",
    "Input: a = np.array([1,2,3])\n",
    "Output: array([1, 1, 1, 2, 2, 2, 3, 3, 3, 1, 2, 3, 1, 2, 3, 1, 2,3])"
   ]
  },
  {
   "cell_type": "code",
   "execution_count": 17,
   "id": "7e84353e-33d0-4497-9cd5-7b59b9f3f893",
   "metadata": {},
   "outputs": [
    {
     "data": {
      "text/plain": [
       "array([1, 1, 1, 2, 2, 2, 3, 3, 3, 1, 2, 3, 1, 2, 3, 1, 2, 3])"
      ]
     },
     "execution_count": 17,
     "metadata": {},
     "output_type": "execute_result"
    }
   ],
   "source": [
    "a=[1,2,3]\n",
    "np.hstack((np.repeat(a, 3), np.tile(a, 3)))"
   ]
  },
  {
   "cell_type": "markdown",
   "id": "088cdaad-eaf1-4ec9-b17e-03ebfdfb80bc",
   "metadata": {},
   "source": [
    "10. How to get the common items between two python numpy arrays?"
   ]
  },
  {
   "cell_type": "code",
   "execution_count": 31,
   "id": "bab693e1-7c4e-46e9-af91-433b0ccc33ac",
   "metadata": {},
   "outputs": [
    {
     "name": "stdout",
     "output_type": "stream",
     "text": [
      "[1 2 3 4 5]\n",
      "[3 4 5 6 7 8]\n"
     ]
    },
    {
     "data": {
      "text/plain": [
       "array([3, 4, 5])"
      ]
     },
     "execution_count": 31,
     "metadata": {},
     "output_type": "execute_result"
    }
   ],
   "source": [
    "a=np.arange(1,6)\n",
    "b=np.arange(3,9)\n",
    "print(a)\n",
    "print(b)\n",
    "x=np.intersect1d(a,b)\n",
    "x"
   ]
  },
  {
   "cell_type": "markdown",
   "id": "a6b5fb7e-2e1b-4506-baf3-162474d27095",
   "metadata": {},
   "source": [
    "11.How to remove from one array those items that exist in another?"
   ]
  },
  {
   "cell_type": "code",
   "execution_count": 34,
   "id": "6afcb13a-aaef-4bf6-8a62-d5bd46341067",
   "metadata": {},
   "outputs": [
    {
     "data": {
      "text/plain": [
       "array([6, 7, 8])"
      ]
     },
     "execution_count": 34,
     "metadata": {},
     "output_type": "execute_result"
    }
   ],
   "source": [
    "np.setdiff1d(b,a)"
   ]
  },
  {
   "cell_type": "markdown",
   "id": "d07c8707-6d70-45d4-8aea-e66adc54026c",
   "metadata": {},
   "source": [
    "12. How to compute the mean, median, standard deviation of a numpy array?"
   ]
  },
  {
   "cell_type": "code",
   "execution_count": 53,
   "id": "0a30ed0e-be00-4c29-ad56-b3e2696a9408",
   "metadata": {},
   "outputs": [
    {
     "data": {
      "text/plain": [
       "5.766281297335398"
      ]
     },
     "execution_count": 53,
     "metadata": {},
     "output_type": "execute_result"
    }
   ],
   "source": [
    "a=np.arange(0,20).reshape(5,4)\n",
    "a\n",
    "x=np.mean(a)\n",
    "x\n",
    "y=np.median(a)\n",
    "y\n",
    "z=np.std(a)\n",
    "z"
   ]
  },
  {
   "cell_type": "markdown",
   "id": "2d475eef-67e4-4a62-a36f-fbdf8b376970",
   "metadata": {},
   "source": [
    "13.How to convert an array of arrays into a flat 1d array?"
   ]
  },
  {
   "cell_type": "code",
   "execution_count": 70,
   "id": "b3ddcbe1-045e-4104-a079-9813be3e10c8",
   "metadata": {},
   "outputs": [
    {
     "data": {
      "text/plain": [
       "array([1, 2, 3, 5, 6, 7, 8])"
      ]
     },
     "execution_count": 70,
     "metadata": {},
     "output_type": "execute_result"
    }
   ],
   "source": [
    "a1= np.arange(1,4)\n",
    "a2= np.arange(5,9)\n",
    "a3=np.concatenate([a1,a2])\n",
    "a3\n"
   ]
  },
  {
   "cell_type": "markdown",
   "id": "f168e09c-72d1-4751-8080-6376181c0784",
   "metadata": {},
   "source": [
    "14. Iterate over nd array"
   ]
  },
  {
   "cell_type": "code",
   "execution_count": 71,
   "id": "0d1bd992-3e53-463d-8ccb-5a0edc978ad1",
   "metadata": {},
   "outputs": [
    {
     "data": {
      "text/plain": [
       "array([[ 0,  1,  2,  3],\n",
       "       [ 4,  5,  6,  7],\n",
       "       [ 8,  9, 10, 11],\n",
       "       [12, 13, 14, 15],\n",
       "       [16, 17, 18, 19]])"
      ]
     },
     "execution_count": 71,
     "metadata": {},
     "output_type": "execute_result"
    }
   ],
   "source": [
    "a"
   ]
  },
  {
   "cell_type": "code",
   "execution_count": 73,
   "id": "84babfcc-34de-43e4-9d73-3272c5ac6a72",
   "metadata": {},
   "outputs": [
    {
     "name": "stdout",
     "output_type": "stream",
     "text": [
      "0\n",
      "1\n",
      "2\n",
      "3\n",
      "4\n",
      "5\n",
      "6\n",
      "7\n",
      "8\n",
      "9\n",
      "10\n",
      "11\n",
      "12\n",
      "13\n",
      "14\n",
      "15\n",
      "16\n",
      "17\n",
      "18\n",
      "19\n"
     ]
    }
   ],
   "source": [
    "for a in np.nditer(a,order='c'):\n",
    "    print(a)"
   ]
  },
  {
   "cell_type": "code",
   "execution_count": 83,
   "id": "9e0ec602-e73d-4961-bedb-5996763aa05b",
   "metadata": {},
   "outputs": [
    {
     "name": "stdout",
     "output_type": "stream",
     "text": [
      "[[ 0  1  2  3  4]\n",
      " [ 5  6  7  8  9]\n",
      " [10 11 12 13 14]]\n",
      "0\n",
      "5\n",
      "10\n",
      "1\n",
      "6\n",
      "11\n",
      "2\n",
      "7\n",
      "12\n",
      "3\n",
      "8\n",
      "13\n",
      "4\n",
      "9\n",
      "14\n"
     ]
    }
   ],
   "source": [
    "b= np.arange(0,15).reshape(3,5)\n",
    "print(b)\n",
    "for b in np.nditer(b,order='F'):\n",
    "    print(b)"
   ]
  },
  {
   "cell_type": "code",
   "execution_count": null,
   "id": "340af540-4e26-4770-80bc-f6c79873ab47",
   "metadata": {},
   "outputs": [],
   "source": []
  }
 ],
 "metadata": {
  "kernelspec": {
   "display_name": "Python 3 (ipykernel)",
   "language": "python",
   "name": "python3"
  },
  "language_info": {
   "codemirror_mode": {
    "name": "ipython",
    "version": 3
   },
   "file_extension": ".py",
   "mimetype": "text/x-python",
   "name": "python",
   "nbconvert_exporter": "python",
   "pygments_lexer": "ipython3",
   "version": "3.11.7"
  }
 },
 "nbformat": 4,
 "nbformat_minor": 5
}
