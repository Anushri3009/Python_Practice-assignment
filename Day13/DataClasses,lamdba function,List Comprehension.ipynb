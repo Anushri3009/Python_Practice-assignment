{
 "cells": [
  {
   "cell_type": "markdown",
   "id": "ad58f30a-56e9-483c-96bb-cc2eadd844c8",
   "metadata": {},
   "source": [
    "#List Comprehension"
   ]
  },
  {
   "cell_type": "code",
   "execution_count": 8,
   "id": "aadea473-485d-4d7a-9554-366fa9b67e39",
   "metadata": {},
   "outputs": [
    {
     "name": "stdout",
     "output_type": "stream",
     "text": [
      "['a', 'b', 'c', 'd']\n"
     ]
    }
   ],
   "source": [
    "# Generating a list of the first letters of words in a list:\n",
    "words = ['apple', 'banana', 'cherry', 'date']\n",
    "first_letter=[letters[0] for letters in words] \n",
    "print(first_letter)"
   ]
  },
  {
   "cell_type": "code",
   "execution_count": 11,
   "id": "94b41c52-f82e-488f-af49-2015cb5e51ed",
   "metadata": {},
   "outputs": [
    {
     "name": "stdout",
     "output_type": "stream",
     "text": [
      "[1, 4, 9, 16, 25]\n"
     ]
    }
   ],
   "source": [
    "lst = [1,2,3,4,5]\n",
    "sq_num=[i**2 for i in lst]\n",
    "print(sq_num)"
   ]
  },
  {
   "cell_type": "code",
   "execution_count": 15,
   "id": "f52f6e03-6504-47e9-866d-f5e5d3f81baa",
   "metadata": {},
   "outputs": [
    {
     "name": "stdout",
     "output_type": "stream",
     "text": [
      "[1, 3, 5, 7, 9]\n",
      "[2, 4, 6, 8, 10]\n"
     ]
    }
   ],
   "source": [
    "## Filtering even numbers from a list:\n",
    "num= [1,2,3,4,5,6,7,8,9,10]\n",
    "even_num=[i for i in num if i%2==0]\n",
    "odd_num=[i for i in num if i%2!=0]\n",
    "print(odd_num)\n",
    "print(even_num)"
   ]
  },
  {
   "cell_type": "code",
   "execution_count": 17,
   "id": "686000ae-8ea3-487c-965f-e185348f53ec",
   "metadata": {},
   "outputs": [
    {
     "name": "stdout",
     "output_type": "stream",
     "text": [
      "[1, 2, 3, 4, 5, 6, 7, 8, 9]\n"
     ]
    }
   ],
   "source": [
    "##Flattening a list of lists: 2 for loops\n",
    "lists = [[1, 2, 3], [4, 5, 6], [7, 8, 9]]\n",
    "\n",
    "flatten_list=[supersublists for sublists in lists for supersublists in sublists]\n",
    "print(flatten_list)"
   ]
  },
  {
   "cell_type": "code",
   "execution_count": 19,
   "id": "70d49fc9-ada6-4e4e-b4eb-138449278738",
   "metadata": {},
   "outputs": [
    {
     "name": "stdout",
     "output_type": "stream",
     "text": [
      "[4, 16, 36, 64, 100]\n"
     ]
    }
   ],
   "source": [
    "## Generating a list of the squares of even numbers\n",
    "numbers = [1, 2, 3, 4, 5, 6, 7, 8, 9, 10]\n",
    "\n",
    "sq_num= [i**2 for i in numbers if i%2==0]\n",
    "print(sq_num)"
   ]
  },
  {
   "cell_type": "code",
   "execution_count": 23,
   "id": "00fd4d4a-5f69-4f5f-be6b-55418b3c521f",
   "metadata": {},
   "outputs": [
    {
     "data": {
      "text/plain": [
       "[1, 2, 3, 4, 5]"
      ]
     },
     "execution_count": 23,
     "metadata": {},
     "output_type": "execute_result"
    }
   ],
   "source": [
    "## Converting a list of strings to a list of integers\n",
    "strings = ['1', '2', '3', '4', '5']\n",
    "[int(s) for s in strings]"
   ]
  },
  {
   "cell_type": "code",
   "execution_count": 24,
   "id": "4e8fc775-7c3a-4df6-8653-de767075440f",
   "metadata": {},
   "outputs": [
    {
     "data": {
      "text/plain": [
       "[1,\n",
       " 2,\n",
       " 3,\n",
       " 5,\n",
       " 8,\n",
       " 13,\n",
       " 21,\n",
       " 34,\n",
       " 55,\n",
       " 89,\n",
       " 144,\n",
       " 233,\n",
       " 377,\n",
       " 610,\n",
       " 987,\n",
       " 1597,\n",
       " 2584,\n",
       " 4181,\n",
       " 6765]"
      ]
     },
     "execution_count": 24,
     "metadata": {},
     "output_type": "execute_result"
    }
   ],
   "source": [
    "## Generating a list of the Fibonacci sequence using a list comprehension\n",
    "fib = [0, 1, 1, 2, 3, 5, 8, 13, 21, 34, 55, 89, 144, 233, 377, 610, 987, 1597, 2584, 4181, 6765]\n",
    "[fib[i-1]+fib[i-2] for i in range(2,len(fib))]"
   ]
  },
  {
   "cell_type": "code",
   "execution_count": 27,
   "id": "2c297e57-4914-40a6-94c3-04cc876e1f30",
   "metadata": {},
   "outputs": [
    {
     "data": {
      "text/plain": [
       "[1, 5, 25]"
      ]
     },
     "execution_count": 27,
     "metadata": {},
     "output_type": "execute_result"
    }
   ],
   "source": [
    "##Generating a list of all the divisors of a number:\n",
    "\n",
    "number =25\n",
    "\n",
    "[i for i in range(1,number+1) if number%i==0]\n"
   ]
  },
  {
   "cell_type": "code",
   "execution_count": null,
   "id": "c9a9b2a8-2229-4bdb-88b9-7d7176279189",
   "metadata": {},
   "outputs": [],
   "source": [
    "sorted()"
   ]
  },
  {
   "cell_type": "markdown",
   "id": "618bf72e-0015-41b9-a5e9-e3ab35c748f1",
   "metadata": {},
   "source": [
    "# Lambda Function"
   ]
  },
  {
   "cell_type": "code",
   "execution_count": 42,
   "id": "dbc672e6-db80-4663-9cb6-3564b5c1d194",
   "metadata": {},
   "outputs": [
    {
     "name": "stdout",
     "output_type": "stream",
     "text": [
      "a ['apple']\n",
      "b ['banana']\n",
      "c ['cherry']\n",
      "d ['date']\n",
      "e ['elderberry']\n",
      "f ['fig']\n",
      "m ['mango']\n"
     ]
    }
   ],
   "source": [
    "from itertools import groupby\n",
    "\n",
    "words = ['apple', 'banana','mango', 'cherry', 'date', 'elderberry', 'fig']\n",
    "\n",
    "groups = groupby(sorted(words), key=lambda x: x[0])\n",
    "\n",
    "for key, group in groups:\n",
    "    print(key, list(group))"
   ]
  },
  {
   "cell_type": "code",
   "execution_count": 50,
   "id": "b8597dbd-0d83-4420-9b92-6193548404f9",
   "metadata": {},
   "outputs": [
    {
     "data": {
      "text/plain": [
       "'b'"
      ]
     },
     "execution_count": 50,
     "metadata": {},
     "output_type": "execute_result"
    }
   ],
   "source": [
    "## Finding the maximum value in a dictionary\n",
    "data = {'a': 10, 'b': 20, 'c': 5, 'd': 15}\n",
    "max(data,key=lambda y:data[y])"
   ]
  },
  {
   "cell_type": "code",
   "execution_count": 53,
   "id": "0bc7aabb-d768-4ae3-92f4-c456c6bc4b09",
   "metadata": {},
   "outputs": [
    {
     "data": {
      "text/plain": [
       "['date', 'apple', 'banana', 'cherry', 'elderberry']"
      ]
     },
     "execution_count": 53,
     "metadata": {},
     "output_type": "execute_result"
    }
   ],
   "source": [
    "## Sort a list of strings based on their alphabetical characters and  length:\n",
    "fruits = ['apple', 'banana', 'cherry', 'date', 'elderberry']\n",
    "sorted(fruits,key=lambda x:len(x))"
   ]
  },
  {
   "cell_type": "code",
   "execution_count": 57,
   "id": "cbd8d35e-04e0-4c95-90fa-0337be4240c3",
   "metadata": {},
   "outputs": [
    {
     "name": "stdout",
     "output_type": "stream",
     "text": [
      "[1, 4, 9, 16, 25, 36]\n"
     ]
    }
   ],
   "source": [
    "## Convert a list of integers to their corresponding square values:\n",
    "numbers=[1,2,3,4,5,6]\n",
    "sq_value=list(map(lambda x :x**2,numbers))\n",
    "print(sq_value)"
   ]
  },
  {
   "cell_type": "code",
   "execution_count": 58,
   "id": "581f1b0b-a8af-47a5-80cc-2903e864fb4b",
   "metadata": {},
   "outputs": [
    {
     "data": {
      "text/plain": [
       "25"
      ]
     },
     "execution_count": 58,
     "metadata": {},
     "output_type": "execute_result"
    }
   ],
   "source": [
    "## Return the length of a string\n",
    "str_len=lambda s:len(s)\n",
    "str_len(\"Anushri Samarth Deshpande\")"
   ]
  },
  {
   "cell_type": "code",
   "execution_count": 59,
   "id": "3f97e372-8b5a-454f-9494-ef8717c7eca9",
   "metadata": {},
   "outputs": [
    {
     "data": {
      "text/plain": [
       "16"
      ]
     },
     "execution_count": 59,
     "metadata": {},
     "output_type": "execute_result"
    }
   ],
   "source": [
    "#Addition of 2 nos\n",
    "sum_nos= lambda x,y:x+y\n",
    "sum_nos(7,9)"
   ]
  },
  {
   "cell_type": "markdown",
   "id": "bd824e82-516a-4255-b77e-c12c7b4a6915",
   "metadata": {},
   "source": [
    "# Python Data Classes\n",
    "\n",
    "In Python, the dataclass decorator is a feature introduced in Python 3.7 that provides a concise way to define classes primarily intended to store data. It automatically generates several special methods, such as init, repr, and eq, based on the class attributes you define. This simplifies the process of creating and working with data-focused classes."
   ]
  },
  {
   "cell_type": "code",
   "execution_count": 62,
   "id": "84613e51-7968-44a0-ab1c-2bc8aaaa63e4",
   "metadata": {},
   "outputs": [
    {
     "name": "stdout",
     "output_type": "stream",
     "text": [
      "123 street,Banglore\n"
     ]
    }
   ],
   "source": [
    "from dataclasses import dataclass\n",
    "\n",
    "@dataclass\n",
    "class Person:\n",
    "    name:str\n",
    "    age:int\n",
    "    address:str\n",
    "\n",
    "\n",
    "details=Person(\"ANUSHRI\",34,\"123 street,Banglore\")\n",
    "print(details.address)"
   ]
  },
  {
   "cell_type": "code",
   "execution_count": 66,
   "id": "100ff953-531c-4543-a469-2d16ee9d4a09",
   "metadata": {},
   "outputs": [
    {
     "data": {
      "text/plain": [
       "3"
      ]
     },
     "execution_count": 66,
     "metadata": {},
     "output_type": "execute_result"
    }
   ],
   "source": [
    "@dataclass \n",
    "class triangle:\n",
    "    base:int\n",
    "    height:int\n",
    "    hypo:int\n",
    "    colour:str='white'\n",
    "\n",
    "specs=triangle(3,5,7,\"red\")\n",
    "specs.colour\n",
    "specs.base"
   ]
  },
  {
   "cell_type": "code",
   "execution_count": 68,
   "id": "23223467-09af-4de8-930c-f7fe4d01038b",
   "metadata": {},
   "outputs": [
    {
     "data": {
      "text/plain": [
       "'Anushri'"
      ]
     },
     "execution_count": 68,
     "metadata": {},
     "output_type": "execute_result"
    }
   ],
   "source": [
    "#Inheritance\n",
    "@dataclass\n",
    "class Person:\n",
    "    name:str\n",
    "    age:int\n",
    "    address:str\n",
    "\n",
    "\n",
    "@dataclass\n",
    "class Employee(Person):\n",
    "    emp_id:str\n",
    "    dept:str\n",
    "\n",
    "details=Person(\"Anushri\",40,\"agsjakhd\")\n",
    "emp_info=Employee(\"Anushri\",43,\"hdkjahs\",\"123tyr\",\"IT\")\n",
    "emp_info.name\n",
    "    "
   ]
  },
  {
   "cell_type": "code",
   "execution_count": 86,
   "id": "bca79716-87a1-46d8-8550-e6188f36f5d3",
   "metadata": {},
   "outputs": [
    {
     "data": {
      "text/plain": [
       "'four'"
      ]
     },
     "execution_count": 86,
     "metadata": {},
     "output_type": "execute_result"
    }
   ],
   "source": [
    "#Nested dataclass\n",
    "\n",
    "@dataclass\n",
    "class Appearence:\n",
    "    colour:str\n",
    "    no_of_sides:str\n",
    "    \n",
    "\n",
    "@dataclass\n",
    "class square:\n",
    "    length:int\n",
    "    other_info:Appearence\n",
    "\n",
    "appear=Appearence('Green','four')\n",
    "shape=square(10,appear)\n",
    "shape.other_info.no_of_sides"
   ]
  },
  {
   "cell_type": "code",
   "execution_count": 78,
   "id": "57acb402-c333-48c8-9a89-c774a02abf00",
   "metadata": {},
   "outputs": [
    {
     "data": {
      "text/plain": [
       "'Bangalore'"
      ]
     },
     "execution_count": 78,
     "metadata": {},
     "output_type": "execute_result"
    }
   ],
   "source": [
    "@dataclass\n",
    "class Address:\n",
    "    street:str\n",
    "    city:str\n",
    "    zip_code:str\n",
    "\n",
    "@dataclass\n",
    "class Person:\n",
    "    name:str\n",
    "    age:str\n",
    "    address:Address\n",
    "\n",
    "\n",
    "\n",
    "address=Address('123 MAin street','Bangalore','12345')\n",
    "person=Person(\"Krish\",31,address)\n",
    "person.address.city"
   ]
  },
  {
   "cell_type": "code",
   "execution_count": null,
   "id": "2a226ea8-e71d-4f1a-ad33-a5c890328ac9",
   "metadata": {},
   "outputs": [],
   "source": []
  }
 ],
 "metadata": {
  "kernelspec": {
   "display_name": "Python 3 (ipykernel)",
   "language": "python",
   "name": "python3"
  },
  "language_info": {
   "codemirror_mode": {
    "name": "ipython",
    "version": 3
   },
   "file_extension": ".py",
   "mimetype": "text/x-python",
   "name": "python",
   "nbconvert_exporter": "python",
   "pygments_lexer": "ipython3",
   "version": "3.11.7"
  }
 },
 "nbformat": 4,
 "nbformat_minor": 5
}
