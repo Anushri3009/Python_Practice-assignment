{
 "cells": [
  {
   "cell_type": "markdown",
   "id": "4cd14abc-5a72-47c1-a82a-3f7adb3c020a",
   "metadata": {},
   "source": [
    "# Module 3: Data Structures Assignments\n",
    "## Lesson 3.2: Tuples\n",
    "### Assignment 1: Creating and Accessing Tuples\n",
    "\n",
    "Create a tuple with the first 10 positive integers. Print the tuple.\n",
    "\n"
   ]
  },
  {
   "cell_type": "code",
   "execution_count": 3,
   "id": "42e902c0-07c0-4993-8b9a-60af77e8a883",
   "metadata": {},
   "outputs": [
    {
     "name": "stdout",
     "output_type": "stream",
     "text": [
      "(1, 2, 3, 4, 5, 6, 7, 8, 9, 10)\n"
     ]
    }
   ],
   "source": [
    "tuple_int = tuple(range(1,11))\n",
    "print(tuple_int)"
   ]
  },
  {
   "cell_type": "markdown",
   "id": "da61b9b0-1b53-4a3a-81c6-2a0310feaaea",
   "metadata": {},
   "source": [
    "### Assignment 2: Accessing Tuple Elements\n",
    "\n",
    "Print the first, middle, and last elements of the tuple created in Assignment 1.\n",
    "\n"
   ]
  },
  {
   "cell_type": "code",
   "execution_count": 8,
   "id": "8a23ca91-0923-4b72-9fc3-d7465bd61a40",
   "metadata": {},
   "outputs": [
    {
     "name": "stdout",
     "output_type": "stream",
     "text": [
      "First elemnet in tuple is  1\n",
      "Middle elemnet in tuple is  6\n",
      "Last elemnet in tuple is  10\n"
     ]
    }
   ],
   "source": [
    "print(\"First elemnet in tuple is \",tuple_int[0])\n",
    "print(\"Middle elemnet in tuple is \",tuple_int[len(tuple_int)//2])\n",
    "print(\"Last elemnet in tuple is \",tuple_int[-1])"
   ]
  },
  {
   "cell_type": "markdown",
   "id": "add53005-d080-4ae8-8370-2c9c4a0f8d78",
   "metadata": {},
   "source": [
    "### Assignment 3: Tuple Slicing\n",
    "\n",
    "Print the first three elements, the last three elements, and the elements from index 2 to 5 of the tuple created in Assignment 1.\n",
    "\n"
   ]
  },
  {
   "cell_type": "code",
   "execution_count": 10,
   "id": "7915df2f-8e9c-4782-a868-99fa845d1c99",
   "metadata": {},
   "outputs": [
    {
     "name": "stdout",
     "output_type": "stream",
     "text": [
      "First 3 elements in tuple are (1, 2, 3)\n",
      "Last 3 elements in tuple are (8, 9, 10)\n",
      "Elements from index 2 to 5 in tuple are (3, 4, 5, 6)\n"
     ]
    }
   ],
   "source": [
    "print(\"First 3 elements in tuple are\",tuple_int[:3])\n",
    "print(\"Last 3 elements in tuple are\",tuple_int[-3:])\n",
    "print(\"Elements from index 2 to 5 in tuple are\",tuple_int[2:6])"
   ]
  },
  {
   "cell_type": "markdown",
   "id": "2d5400dd-ece1-457b-a33b-91ffbfab4730",
   "metadata": {},
   "source": [
    "### Assignment 4: Nested Tuples\n",
    "\n",
    "Create a nested tuple representing a 3x3 matrix and print the matrix. Access and print the element at the second row and third column.\n"
   ]
  },
  {
   "cell_type": "code",
   "execution_count": 13,
   "id": "65566500-7ea6-44ed-b27a-0d85871bcf16",
   "metadata": {},
   "outputs": [
    {
     "name": "stdout",
     "output_type": "stream",
     "text": [
      "((1, 2, 3), (4, 5, 6), (7, 8, 9))\n",
      "6\n"
     ]
    }
   ],
   "source": [
    "matrix =((1,2,3),\n",
    "         (4,5,6),\n",
    "         (7,8,9))\n",
    "\n",
    "print(matrix)\n",
    "print(matrix[1][2])"
   ]
  },
  {
   "cell_type": "markdown",
   "id": "aa69adf8-3034-4330-999b-65f3348bcea8",
   "metadata": {},
   "source": [
    "### Assignment 5: Tuple Concatenation\n",
    "\n",
    "Concatenate two tuples: (1, 2, 3) and (4, 5, 6). Print the resulting tuple.\n"
   ]
  },
  {
   "cell_type": "code",
   "execution_count": 15,
   "id": "8de41f72-bd65-4da0-a954-1967bf2e5cc7",
   "metadata": {},
   "outputs": [
    {
     "name": "stdout",
     "output_type": "stream",
     "text": [
      "(1, 2, 3, 4, 5, 6)\n"
     ]
    }
   ],
   "source": [
    "T1=(1,2,3)\n",
    "T2=(4,5,6)\n",
    "T3= T1+T2\n",
    "print(T3)"
   ]
  },
  {
   "cell_type": "markdown",
   "id": "e3a7b18b-4756-4915-b931-8b3a94aa77eb",
   "metadata": {},
   "source": [
    "### Assignment 6: Tuple Methods\n",
    "\n",
    "Create a tuple with duplicate elements and count the occurrences of an element. Find the index of the first occurrence of an element in the tuple.\n"
   ]
  },
  {
   "cell_type": "code",
   "execution_count": 27,
   "id": "32809936-61f7-4ee9-b017-18598dc81af3",
   "metadata": {},
   "outputs": [
    {
     "name": "stdout",
     "output_type": "stream",
     "text": [
      "Duplicate count of 2 is  3\n",
      "First occurance index of 7 is  1\n"
     ]
    }
   ],
   "source": [
    "elements = (1,2,2,2,3,5,7,7,9,10,11,11)\n",
    "print(\"Duplicate count of 2 is \",elements.count(2))\n",
    "print(\"First occurance index of 7 is \",elements.index(2))"
   ]
  },
  {
   "cell_type": "markdown",
   "id": "79df3baa-0a8c-4a20-a683-1800b8db6277",
   "metadata": {},
   "source": [
    "### Assignment 7: Unpacking Tuples\n",
    "\n",
    "Create a tuple with 5 elements and unpack it into 5 variables. Print the variables.\n"
   ]
  },
  {
   "cell_type": "code",
   "execution_count": 30,
   "id": "0624318d-2074-4ba8-bbc2-9f1ac9bfe682",
   "metadata": {},
   "outputs": [
    {
     "name": "stdout",
     "output_type": "stream",
     "text": [
      "(1, 2, 3, 4, 5)\n",
      "Unpacked tuple 1 2 3 4 5\n"
     ]
    }
   ],
   "source": [
    "tup =(1,2,3,4,5)\n",
    "print(tup)\n",
    "a,b,c,d,e=tup\n",
    "print(\"Unpacked tuple\",a,b,c,d,e)"
   ]
  },
  {
   "cell_type": "markdown",
   "id": "e146854b-5c89-483c-9a0f-cecd49b9be91",
   "metadata": {},
   "source": [
    "### Assignment 8: Tuple Conversion\n",
    "\n",
    "Convert a list of the first 5 positive integers to a tuple. Print the tuple.\n"
   ]
  },
  {
   "cell_type": "code",
   "execution_count": 37,
   "id": "0037e5d7-30cd-45c4-a8eb-3313ffec91d8",
   "metadata": {},
   "outputs": [
    {
     "name": "stdout",
     "output_type": "stream",
     "text": [
      "[1, 2, 3, 4, 5]\n",
      "tuple of list is (1, 2, 3, 4, 5)\n"
     ]
    }
   ],
   "source": [
    "lst = (list(range(1,6)))\n",
    "print(lst)\n",
    "print(\"tuple of list is\",tuple(lst)) "
   ]
  },
  {
   "cell_type": "markdown",
   "id": "cbf08146-4462-42ed-8f2b-b3ef1b0a57c8",
   "metadata": {},
   "source": [
    "### Assignment 9: Tuple of Tuples\n",
    "\n",
    "Create a tuple containing 3 tuples, each with 3 elements. Print the tuple of tuples.\n"
   ]
  },
  {
   "cell_type": "code",
   "execution_count": 38,
   "id": "b9bc3849-a418-4ca3-a855-6b7fc8765296",
   "metadata": {},
   "outputs": [
    {
     "name": "stdout",
     "output_type": "stream",
     "text": [
      "((1, 3, 4), (2, 6, 7), (5, 8, 9))\n"
     ]
    }
   ],
   "source": [
    " tup_of_tuples = ((1,3,4),\n",
    "                  (2,6,7),\n",
    "                  (5,8,9))\n",
    "print(tup_of_tuples)"
   ]
  },
  {
   "cell_type": "markdown",
   "id": "ef528fef-643f-45fc-86d9-b4ded69fa5d0",
   "metadata": {},
   "source": [
    "### Assignment 10: Tuple and List\n",
    "\n",
    "Create a tuple with the first 5 positive integers. Convert it to a list, append the number 6, and convert it back to a tuple. Print the resulting tuple.\n",
    "\n"
   ]
  },
  {
   "cell_type": "code",
   "execution_count": 51,
   "id": "ea7f15cc-64f7-400c-8c82-7b764a85d721",
   "metadata": {},
   "outputs": [
    {
     "name": "stdout",
     "output_type": "stream",
     "text": [
      "(1, 2, 3, 4, 5)\n",
      "Converting list to tuple [1, 2, 3, 4, 5]\n",
      "[1, 2, 3, 4, 5, 6]\n",
      "Converting list to tuple after appending (1, 2, 3, 4, 5, 6)\n"
     ]
    }
   ],
   "source": [
    "tup_5=tuple(range(1,6))\n",
    "print(tup_5)\n",
    "lst=list(tup_5)\n",
    "print(\"Converting list to tuple\",lst)\n",
    "lst.append(6)\n",
    "print(lst)\n",
    "tup_6=tuple(lst)\n",
    "print(\"Converting list to tuple after appending\",tup_6)"
   ]
  },
  {
   "cell_type": "markdown",
   "id": "dac70d5f-710e-46f1-82a5-1b109e023018",
   "metadata": {},
   "source": [
    "### Assignment 11: Tuple and String\n",
    "\n",
    "Create a tuple with the characters of a string. Join the tuple elements into a single string. Print the string.\n"
   ]
  },
  {
   "cell_type": "code",
   "execution_count": 54,
   "id": "50fbba0b-b363-4542-a8a4-bb7662b72952",
   "metadata": {},
   "outputs": [
    {
     "name": "stdout",
     "output_type": "stream",
     "text": [
      "Tuple to Single string is abcd\n"
     ]
    }
   ],
   "source": [
    "tup_char =('a','b','c','d')\n",
    "e,f,g,h=tup_char\n",
    "print(\"Tuple to Single string is\",e+f+g+h)"
   ]
  },
  {
   "cell_type": "markdown",
   "id": "fccf8af4-0749-48ee-9fa3-151a745b06b1",
   "metadata": {},
   "source": [
    "### Assignment 12: Tuple and Dictionary\n",
    "\n",
    "Create a dictionary with tuple keys and integer values. Print the dictionary.\n"
   ]
  },
  {
   "cell_type": "code",
   "execution_count": 62,
   "id": "6eeb99bf-a38b-49db-b1a9-269314d3e6a6",
   "metadata": {},
   "outputs": [
    {
     "name": "stdout",
     "output_type": "stream",
     "text": [
      "{('Peter', 5690234), ('John', 456789), ('Avenger', 120987)}\n"
     ]
    }
   ],
   "source": [
    "tup ={\n",
    "    (1,2):3,\n",
    "    (2,3):4,\n",
    "    (4,5):8}\n",
    "print(dict)"
   ]
  },
  {
   "cell_type": "markdown",
   "id": "25b3d661-514c-49a6-8ba3-9b3c0f57fdf0",
   "metadata": {},
   "source": [
    "### Assignment 13: Nested Tuple Iteration\n",
    "\n",
    "Create a nested tuple and iterate over the elements, printing each element.\n",
    "\n"
   ]
  },
  {
   "cell_type": "code",
   "execution_count": 65,
   "id": "225de80d-9d6d-421b-aaad-0e71771023e0",
   "metadata": {},
   "outputs": [
    {
     "name": "stdout",
     "output_type": "stream",
     "text": [
      "1\n",
      "2\n",
      "3\n",
      "4\n",
      "5\n",
      "6\n"
     ]
    }
   ],
   "source": [
    "tup = ((1,2),(3,4),(5,6))\n",
    "for t in tup:\n",
    "    for x in t:\n",
    "        print(x)\n",
    "    \n"
   ]
  },
  {
   "cell_type": "markdown",
   "id": "c1ab5584-fdfd-4582-a08d-fa1baed98317",
   "metadata": {},
   "source": [
    "### Assignment 14: Tuple and Set\n",
    "\n",
    "Create a tuple with duplicate elements. Convert it to a set to remove duplicates and print the resulting set."
   ]
  },
  {
   "cell_type": "code",
   "execution_count": 71,
   "id": "d2450671-a565-433a-811c-57f66a5b6757",
   "metadata": {},
   "outputs": [
    {
     "name": "stdout",
     "output_type": "stream",
     "text": [
      "(1, 3, 3, 4, 5, 5, 6, 7, 7, 8, 9, 1)\n",
      "{1, 3, 4, 5, 6, 7, 8, 9}\n"
     ]
    }
   ],
   "source": [
    "tuple_A=(1,3,3,4,5,5,6,7,7,8,9,1)\n",
    "print(tuple_A)\n",
    "sets=set(tuple_A)\n",
    "print(sets)"
   ]
  },
  {
   "cell_type": "markdown",
   "id": "a10259b4-96b8-454f-95b0-73e25f7e4b76",
   "metadata": {},
   "source": [
    "### Assignment 15: Tuple Functions\n",
    "\n",
    "Write functions that take a tuple and return the minimum, maximum, and sum of the elements. Print the results for a sample tuple."
   ]
  },
  {
   "cell_type": "code",
   "execution_count": 74,
   "id": "e193d52e-70d1-4a05-ad0f-6db690dbe319",
   "metadata": {},
   "outputs": [
    {
     "name": "stdout",
     "output_type": "stream",
     "text": [
      "(5, 1, 15)\n"
     ]
    }
   ],
   "source": [
    "def fun(tup_B):\n",
    "    return (max(tup_B),min(tup_B),sum(tup_B))\n",
    "\n",
    "tup = (1,2,3,4,5)\n",
    "result=fun(tup)\n",
    "print(result)"
   ]
  },
  {
   "cell_type": "code",
   "execution_count": null,
   "id": "97defa8e-870f-485d-8580-cfcfdc6a833c",
   "metadata": {},
   "outputs": [],
   "source": []
  }
 ],
 "metadata": {
  "kernelspec": {
   "display_name": "Python 3 (ipykernel)",
   "language": "python",
   "name": "python3"
  },
  "language_info": {
   "codemirror_mode": {
    "name": "ipython",
    "version": 3
   },
   "file_extension": ".py",
   "mimetype": "text/x-python",
   "name": "python",
   "nbconvert_exporter": "python",
   "pygments_lexer": "ipython3",
   "version": "3.11.7"
  }
 },
 "nbformat": 4,
 "nbformat_minor": 5
}
