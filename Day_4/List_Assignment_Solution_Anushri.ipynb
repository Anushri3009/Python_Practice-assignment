{
 "cells": [
  {
   "cell_type": "markdown",
   "id": "e93c3d2f-3823-4498-984b-897d89852ca9",
   "metadata": {},
   "source": [
    "# Module 3: Data Structures Assignments\n",
    "## Lesson 3.1: Lists\n",
    "### Assignment 1: Creating and Accessing Lists\n",
    "\n",
    "Create a list of the first 20 positive integers. Print the list."
   ]
  },
  {
   "cell_type": "code",
   "execution_count": 1,
   "id": "599f2d33-7fee-47af-abb2-6d9bdb79fcb7",
   "metadata": {},
   "outputs": [
    {
     "name": "stdout",
     "output_type": "stream",
     "text": [
      "[1, 2, 3, 4, 5, 6, 7, 8, 9, 10, 11, 12, 13, 14, 15, 16, 17, 18, 19, 20]\n"
     ]
    }
   ],
   "source": [
    "lst = list(range(1,21))\n",
    "print(lst)"
   ]
  },
  {
   "cell_type": "markdown",
   "id": "36e801d3-fae9-4606-b735-842c0ffcc0d1",
   "metadata": {},
   "source": [
    "### Assignment 2: Accessing List Elements\r\n",
    "Print the first, middle, and last elements of the list created in Assignment 1."
   ]
  },
  {
   "cell_type": "code",
   "execution_count": 15,
   "id": "a436904a-feb7-4bb9-b005-15991a0baf3f",
   "metadata": {},
   "outputs": [
    {
     "name": "stdout",
     "output_type": "stream",
     "text": [
      "First elemnet of list is 10\n",
      "Middle elemnet of list is 9\n",
      "Last elemnet of list is 8\n"
     ]
    }
   ],
   "source": [
    "lst1 =[10,20,50,9,76,29,8]\n",
    "print(\"First elemnet of list is\",lst1[0])\n",
    "print(\"Middle elemnet of list is\",(lst1[(len(lst1)//2)]))\n",
    "print(\"Last elemnet of list is\",lst1[-1])"
   ]
  },
  {
   "cell_type": "markdown",
   "id": "751ab8cf-eb53-4aa5-80ca-9a6aa3ba54ee",
   "metadata": {},
   "source": [
    "### Assignment 3: List Slicing\n",
    "\n",
    "Print the first five elements, the last five elements, and the elements from index 5 to 15 of the list created in Assignment 1.\n"
   ]
  },
  {
   "cell_type": "code",
   "execution_count": 23,
   "id": "6357b7c4-5045-4b61-a190-dd551a24e66c",
   "metadata": {},
   "outputs": [
    {
     "name": "stdout",
     "output_type": "stream",
     "text": [
      "[1, 2, 3, 4, 5, 6, 7, 8, 9, 10, 11, 12, 13, 14, 15, 16, 17, 18, 19, 20]\n",
      "First five elemnts of list are [1, 2, 3, 4, 5]\n",
      "last five elemnts of list are [16, 17, 18, 19, 20]\n",
      "last five elemnts of list are [6, 7, 8, 9, 10, 11, 12, 13, 14, 15]\n"
     ]
    }
   ],
   "source": [
    "\n",
    "print(lst)\n",
    "print(f\"First five elemnts of list are {lst[:5]}\")\n",
    "print(f\"last five elemnts of list are {lst[-5:]}\")\n",
    "print(f\"last five elemnts of list are {lst[5:15]}\")"
   ]
  },
  {
   "cell_type": "markdown",
   "id": "1e0ec566-a2f4-4e09-921e-3aa36b6e716f",
   "metadata": {},
   "source": [
    "### Assignment 4: List Comprehensions\n",
    "\n",
    "Create a new list containing the squares of the first 10 positive integers using a list comprehension. Print the new list.\n"
   ]
  },
  {
   "cell_type": "code",
   "execution_count": 33,
   "id": "6be7adbb-1c44-4479-a2e7-74c9cb945c94",
   "metadata": {},
   "outputs": [
    {
     "name": "stdout",
     "output_type": "stream",
     "text": [
      "[1, 2, 3, 4, 5, 6, 7, 8, 9, 10]\n",
      "[1, 4, 9, 16, 25, 36, 49, 64, 81, 100]\n"
     ]
    }
   ],
   "source": [
    "lst2 = list(range(1,11))\n",
    "print(lst2)\n",
    "square =[x**2 for x in lst2]\n",
    "print(square)"
   ]
  },
  {
   "cell_type": "markdown",
   "id": "25185f8f-8a1c-422d-82e7-1d25b9384f8c",
   "metadata": {},
   "source": [
    "### Assignment 5: Filtering Lists\n",
    "\n",
    "Create a new list containing only the even numbers from the list created in Assignment 1 using a list comprehension. Print the new list.\n"
   ]
  },
  {
   "cell_type": "code",
   "execution_count": 37,
   "id": "68709bc2-9176-4e5c-b235-cb16c0b624a8",
   "metadata": {},
   "outputs": [
    {
     "name": "stdout",
     "output_type": "stream",
     "text": [
      "[2, 4, 6, 8, 10, 12, 14, 16, 18, 20]\n"
     ]
    }
   ],
   "source": [
    " even = [x for x in lst if x%2==0]\n",
    "print(even)"
   ]
  },
  {
   "cell_type": "markdown",
   "id": "2a292c22-531a-4db7-bf50-d35c9c712e65",
   "metadata": {},
   "source": [
    "### Assignment 6: List Methods\n",
    "\n",
    "Create a list of random numbers and sort it in ascending and descending order. Remove the duplicates from the list and print the modified list.\n"
   ]
  },
  {
   "cell_type": "code",
   "execution_count": 53,
   "id": "6cfb53c5-cf73-4b36-bf59-6f2b390a7f1f",
   "metadata": {},
   "outputs": [
    {
     "name": "stdout",
     "output_type": "stream",
     "text": [
      "List of random numbers is: [19, 16, 6, 19, 8, 7, 6, 13, 8, 3, 9, 13, 17, 16, 11, 8, 15, 17, 10, 16]\n",
      "List in ascending order [3, 6, 6, 7, 8, 8, 8, 9, 10, 11, 13, 13, 15, 16, 16, 16, 17, 17, 19, 19]\n",
      "List in descending order [19, 19, 17, 17, 16, 16, 16, 15, 13, 13, 11, 10, 9, 8, 8, 8, 7, 6, 6, 3]\n",
      "After removing duplicates from list [3, 6, 7, 8, 9, 10, 11, 13, 15, 16, 17, 19]\n"
     ]
    }
   ],
   "source": [
    "import random \n",
    "random_list = [random.randint(1,20) for _ in range(1,21)]\n",
    "print(\"List of random numbers is:\",random_list)\n",
    "ascending_list =sorted(random_list)\n",
    "print(\"List in ascending order\",ascending_list)\n",
    "descending_list =sorted(random_list,reverse=True)\n",
    "print(\"List in descending order\",descending_list)\n",
    "no_duplicates = list(set(random_list))\n",
    "print(\"After removing duplicates from list\",no_duplicates)"
   ]
  },
  {
   "cell_type": "markdown",
   "id": "d89a2413-d651-435b-8948-995971009dd1",
   "metadata": {},
   "source": [
    "### Assignment 7: Nested Lists\n",
    "\n",
    "Create a nested list representing a 3x3 matrix and print the matrix. Access and print the element at the second row and third column.\n"
   ]
  },
  {
   "cell_type": "code",
   "execution_count": 82,
   "id": "e274dd0b-5d8e-4f0f-ad8f-7379b05d0d3c",
   "metadata": {},
   "outputs": [
    {
     "name": "stdout",
     "output_type": "stream",
     "text": [
      "[[1, 2, 3], [2, 3, 4], [4, 5, 6]]\n"
     ]
    },
    {
     "data": {
      "text/plain": [
       "4"
      ]
     },
     "execution_count": 82,
     "metadata": {},
     "output_type": "execute_result"
    }
   ],
   "source": [
    "matrix = [[1,2,3],[2,3,4],[4,5,6]]\n",
    "matrix=[c1,c2,c3]\n",
    "print(matrix)\n",
    "matrix[1][2]"
   ]
  },
  {
   "cell_type": "markdown",
   "id": "192b6a8d-bcaa-4185-86f4-e935113cfc43",
   "metadata": {},
   "source": [
    "### Assignment 8: List of Dictionaries\n",
    "\n",
    "Create a list of dictionaries where each dictionary represents a student with keys 'name' and 'score'. Sort the list of dictionaries by the 'score' in descending order and print the sorted list.\n"
   ]
  },
  {
   "cell_type": "code",
   "execution_count": 88,
   "id": "b5b96a7b-e24b-4fb9-9437-c5de3e3d8527",
   "metadata": {},
   "outputs": [
    {
     "name": "stdout",
     "output_type": "stream",
     "text": [
      "[{'name': 'Ramesh', 'score': 100}, {'name': 'Advik', 'score': 90}, {'name': 'Jenny', 'score': 75}, {'name': 'Pradeep', 'score': 65}]\n"
     ]
    }
   ],
   "source": [
    "student =[\n",
    "        {'name':'Jenny', 'score':75},\n",
    "        {'name':'Advik','score':90},\n",
    "        {'name':'Pradeep', 'score':65},\n",
    "        {'name':'Ramesh','score':100}]\n",
    "result=sorted(student,key= lambda x:x['score'],reverse= True)\n",
    "print(result)"
   ]
  },
  {
   "cell_type": "markdown",
   "id": "3e132305-3e99-472b-8d02-ab7ed4b814e2",
   "metadata": {},
   "source": [
    "### Assignment 9: Matrix Transposition\n",
    "\n",
    "Write a function that takes a 3x3 matrix (nested list) as input and returns its transpose. Print the original and transposed matrices.\n"
   ]
  },
  {
   "cell_type": "code",
   "execution_count": 95,
   "id": "7a12eb3e-d0e3-4c12-a7d6-f9f37a686e68",
   "metadata": {},
   "outputs": [
    {
     "name": "stdout",
     "output_type": "stream",
     "text": [
      "[[1, 2, 3], [4, 5, 6], [7, 8, 9]]\n",
      "[[1, 4, 7], [2, 5, 8], [3, 6, 9]]\n"
     ]
    }
   ],
   "source": [
    "matrix =[[1,2,3],\n",
    "         [4,5,6],\n",
    "         [7,8,9]]\n",
    "print(matrix)\n",
    "transposed =[[matrix[j][i] for j in range(len(matrix))] for i in range(len(matrix[0]))]\n",
    "print(transposed)"
   ]
  },
  {
   "cell_type": "markdown",
   "id": "5a4a8666-3b23-429d-97a9-46ed288ee33e",
   "metadata": {},
   "source": [
    "### Assignment 10: Flattening a Nested List\n",
    "\n",
    "Write a function that takes a nested list and flattens it into a single list. Print the original and flattened lists.\n"
   ]
  },
  {
   "cell_type": "code",
   "execution_count": 100,
   "id": "ddd75fcb-405d-49c1-9916-51d2275c6373",
   "metadata": {},
   "outputs": [
    {
     "name": "stdout",
     "output_type": "stream",
     "text": [
      "[1, 2, 3, 4, 5, 6, 7, 8, 9]\n"
     ]
    }
   ],
   "source": [
    "\n",
    "def flatten_matrix=[matrix]\n",
    "flatten[]\n",
    "for row in matrix:\n",
    "    flatten.extend(row)\n",
    "print(flatten)"
   ]
  },
  {
   "cell_type": "markdown",
   "id": "298d0d29-c08b-4667-add3-c1f3d0aff764",
   "metadata": {},
   "source": [
    "### Assignment 11: List Zipping\n",
    "\n",
    "Create two lists of the same length. Use the `zip` function to combine these lists into a list of tuples and print the result.\n"
   ]
  },
  {
   "cell_type": "code",
   "execution_count": 105,
   "id": "5ebcfd1c-0c06-4420-b02f-dba9c24a7f72",
   "metadata": {},
   "outputs": [
    {
     "name": "stdout",
     "output_type": "stream",
     "text": [
      "[(1, 7), (2, 8), (3, 9), (4, 10), (5, 11), (6, 12)]\n"
     ]
    }
   ],
   "source": [
    "lst1=[1,2,3,4,5,6]\n",
    "lst2=[7,8,9,10,11,12]\n",
    "zipped_list=list(zip(lst1,lst2))\n",
    "print(zipped_list)"
   ]
  },
  {
   "cell_type": "markdown",
   "id": "4b26d590-49fe-449e-939b-c18fba340ce1",
   "metadata": {},
   "source": [
    "### Assignment 12: List Rotation\n",
    "\n",
    "Write a function that rotates a list by n positions. Print the original and rotated lists.\n"
   ]
  },
  {
   "cell_type": "code",
   "execution_count": 111,
   "id": "22d437a2-10d9-4a19-8096-5b11d8b0b619",
   "metadata": {},
   "outputs": [
    {
     "name": "stdout",
     "output_type": "stream",
     "text": [
      "original list [1, 2, 3, 4, 5]\n",
      "List after rotation [4, 5, 1, 2, 3]\n"
     ]
    }
   ],
   "source": [
    "def rotate_list(lst,n):\n",
    "    rotate = lst[n:]+lst[:n]\n",
    "    return rotate\n",
    "\n",
    "lst_original=[1,2,3,4,5]\n",
    "print(\"original list\",lst_original)\n",
    "rotation=rotate_list(lst_original,3)\n",
    "print(\"List after rotation\",rotation)"
   ]
  },
  {
   "cell_type": "markdown",
   "id": "1cfb01f8-40e3-4f7f-9ee5-4d87298681fb",
   "metadata": {},
   "source": [
    "### Assignment 13: List Intersection\r\n",
    "Write a function that takes two lists and returns a new list containing only the elements that are present in both lists. Print the intersected list."
   ]
  },
  {
   "cell_type": "code",
   "execution_count": 121,
   "id": "e24e53db-2528-4ce9-9cff-c46ac3882c47",
   "metadata": {},
   "outputs": [
    {
     "name": "stdout",
     "output_type": "stream",
     "text": [
      "['g', '<>', 45, 'water']\n"
     ]
    }
   ],
   "source": [
    "def intersection_list(l1,l2):\n",
    "    return[x for x in l1 if x in l2]\n",
    "lstA =['A','g',67,'<>',45,90,'water']\n",
    "lstB=['y','water',45,'<>','g']\n",
    "    \n",
    "result=intersection_list(lstA,lstB)\n",
    "print(result)"
   ]
  },
  {
   "cell_type": "code",
   "execution_count": null,
   "id": "f1283125-13c2-4f12-944c-d346e246724a",
   "metadata": {},
   "outputs": [],
   "source": []
  }
 ],
 "metadata": {
  "kernelspec": {
   "display_name": "Python 3 (ipykernel)",
   "language": "python",
   "name": "python3"
  },
  "language_info": {
   "codemirror_mode": {
    "name": "ipython",
    "version": 3
   },
   "file_extension": ".py",
   "mimetype": "text/x-python",
   "name": "python",
   "nbconvert_exporter": "python",
   "pygments_lexer": "ipython3",
   "version": "3.11.7"
  }
 },
 "nbformat": 4,
 "nbformat_minor": 5
}
